{
  "metadata": {
    "kernelspec": {
      "name": "python",
      "display_name": "Python (Pyodide)",
      "language": "python"
    },
    "language_info": {
      "name": ""
    }
  },
  "nbformat_minor": 4,
  "nbformat": 4,
  "cells": [
    {
      "cell_type": "markdown",
      "source": "# Data science tools and equipments",
      "metadata": {}
    },
    {
      "cell_type": "markdown",
      "source": "In this notebook, data science tools and ecosystem are summarized",
      "metadata": {}
    },
    {
      "cell_type": "markdown",
      "source": "**Objectives**",
      "metadata": {}
    },
    {
      "cell_type": "markdown",
      "source": "- comment on data science tools\n- list popular languange that scientist use in data science\n- list common used libralies that scientists use for data science",
      "metadata": {}
    },
    {
      "cell_type": "code",
      "source": "some of the language that scientist use are: 1 python 2 Java 3 julia",
      "metadata": {
        "trusted": true
      },
      "outputs": [],
      "execution_count": null
    },
    {
      "cell_type": "code",
      "source": "some of the common used libraries used by scientists include: \n1 numpy \n2 scipy \n3 keras ",
      "metadata": {
        "trusted": true
      },
      "outputs": [],
      "execution_count": null
    },
    {
      "cell_type": "markdown",
      "source": "Data Science Tools",
      "metadata": {}
    },
    {
      "cell_type": "code",
      "source": "Data science tools\n1 SAS\n2 Apache spark\n3 BigML",
      "metadata": {
        "trusted": true
      },
      "outputs": [],
      "execution_count": null
    },
    {
      "cell_type": "markdown",
      "source": "Introducing arithematic expression",
      "metadata": {}
    },
    {
      "cell_type": "markdown",
      "source": "# # # below are few evaluating arithmetic expression in python",
      "metadata": {}
    },
    {
      "cell_type": "markdown",
      "source": "this is a simple arithmetic expression to multiply and add integer",
      "metadata": {}
    },
    {
      "cell_type": "code",
      "source": "Print(3*4)+5\n# result 17\n",
      "metadata": {
        "trusted": true
      },
      "outputs": [],
      "execution_count": null
    },
    {
      "cell_type": "markdown",
      "source": "This will convert 200 minutes to hours by dividing by 60",
      "metadata": {}
    },
    {
      "cell_type": "code",
      "source": "days = 0\nhours = 0\nminutes = 0\n\ntime = 200\n#days = time/1440\nrenain minutes = time % 1440\nhours = remaining minutes / 60 \n#mins = time -(days*1440) -hours*60\nprint(str(days) + \" days, \" + str (hours) + \"hours,\" + str(mins) + \"mins\")\n# results 3.3333333333333335 hours",
      "metadata": {
        "trusted": true
      },
      "outputs": [],
      "execution_count": null
    },
    {
      "cell_type": "code",
      "source": "0 days, 3.3333333333333335 hours, 0 minutes",
      "metadata": {
        "trusted": true
      },
      "outputs": [],
      "execution_count": null
    },
    {
      "cell_type": "markdown",
      "source": "# # Author ",
      "metadata": {}
    },
    {
      "cell_type": "markdown",
      "source": "ottilie hamukoto",
      "metadata": {}
    },
    {
      "cell_type": "code",
      "source": "",
      "metadata": {
        "trusted": true
      },
      "outputs": [],
      "execution_count": null
    }
  ]
}